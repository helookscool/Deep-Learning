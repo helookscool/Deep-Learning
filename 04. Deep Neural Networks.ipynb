{
 "cells": [
  {
   "cell_type": "markdown",
   "metadata": {},
   "source": [
    "## 심층신경망(Deep Neural Network) 이란?\n",
    "\n",
    "<img src=\"./images/deep-NN-1.png\" width=600>\n",
    "<br>\n",
    "<br>\n",
    "<br>\n",
    "<hr>\n",
    "\n",
    "### 심층 신경망 표기법\n",
    "<img src=\"./images/deep-NN-2.png\" width=600  style=\"display:none\">\n",
    "<img src=\"./images/deep-NN-2-1.png\" width=600>\n",
    "\n",
    "### 심층신경망의 순방향 전파(forward propagation)\n",
    "<img src=\"./images/forward-propagation-DNN-0.png\" width=\"300\" align=\"left\" style=\"display:none\">\n",
    "\n",
    "<img src=\"./images/forward-propagation-DNN.png\" width=600>"
   ]
  },
  {
   "cell_type": "markdown",
   "metadata": {},
   "source": [
    "### 올바른 행렬 차원(matrix dimension) 얻기\n",
    "#### 매개변수 $W^{[l]}$ 과 $b^{[l]}$\n",
    "<img src=\"./images/DNN-w-b.png\" width=600  style=\"display:none\">\n",
    "<img src=\"./images/DNN-w-b-a.png\" width=600>\n",
    "<br>\n",
    "<br>\n",
    "<br><hr>\n",
    "<img src=\"./images/DNN-vectorization.png\" width=600  style=\"display:none\">\n",
    "<img src=\"./images/DNN-vectorization-a.png\" width=600>"
   ]
  },
  {
   "cell_type": "markdown",
   "metadata": {},
   "source": [
    "### 왜  심층 표현(deep representation)인가?\n",
    "\n",
    "#### 심층 표현에 대한 직관\n",
    "<img src=\"./images/DNN-representation-0.png\" width=600  style=\"display:none\">\n",
    "<img src=\"./images/DNN-representation.png\" width=600>\n",
    "\n",
    "#### 회로 이론과 딥 러닝\n",
    "\n",
    "비공식적으로 말해서, 얕은 네트워크로 계산하는 데는 기하급수적으로 더 많은 은닉 유닛이 필요한 것을 \"작은\" L-층 심층 신경망으로 계산할 수 있는 함수가 있습니다.\n",
    "\n",
    "\n",
    "<img src=\"./images/DNN-circuit-theory.png\" width=600>\n"
   ]
  },
  {
   "cell_type": "markdown",
   "metadata": {},
   "source": [
    "### 심층 신경망의 구성 요소\n",
    "\n",
    "#### 전방향 및 후방향 함수\n",
    "\n",
    "<img src=\"./images/DNN-building-blocks-0.png\" width=600  style=\"display:none\">\n",
    "<img src=\"./images/DNN-building-blocks.png\" width=600>\n",
    "\n",
    "\n",
    "#### 전방향 및 후방향 함수\n",
    "\n",
    "<img src=\"./images/DNN-building-blocks-2.png\" width=600>\n"
   ]
  },
  {
   "cell_type": "markdown",
   "metadata": {},
   "source": [
    "### 순방향과 역방향 전파\n",
    "\n",
    "#### l-층에 대한 순전파 (forward propagation)\n",
    "\n",
    "입력 $a^{[l-1]}$\n",
    "\n",
    "출력 $a^{[l]}$, cache $(Z^{[l]})$\n",
    "\n",
    "<img src=\"./images/DNN-forwardpropagation.PNG\" width=600>\n",
    "\n",
    "#### l-층에 대한 역전파 (backward propagation)\n",
    "\n",
    "<img src=\"./images/DNN-backpropagation-1.png\" width=600>\n",
    "\n",
    "#### Summary\n",
    "<img src=\"./images/DNN-backpropagation-2.png\" width=600>\n"
   ]
  },
  {
   "cell_type": "markdown",
   "metadata": {},
   "source": [
    "### 매개변수 대 초매개변수\n",
    "\n",
    "초매개변수(hyperparameter)란 무엇인가?\n",
    "\n",
    "매개변수들\n",
    "$$W^{[1]},b^{[1]},W^{[2]},b^{[2]},W^{[3]},b^{[3]},\\cdots$$\n",
    "\n",
    "초매개변수들 \n",
    "* 학습률 $\\alpha$\n",
    "* 반복수\n",
    "* 은닉층 수 $L$\n",
    "* 은닉 유닛 $n^{[1]},n^{[23]},\\cdots$\n",
    "* 활성화 함수의 선택\n",
    "\n",
    "추후에 : 모멘텀, 미니배치 크기, 정규화 등.\n",
    "\n",
    "<br>\n",
    "<br>\n",
    "<br>\n",
    "<hr>\n",
    "\n",
    "#### 딥러닝의 적용은 매우 경험적인 과정입니다.\n",
    "\n",
    "<br>\n",
    "<br>\n",
    "<img src=\"./images/DNN-empirical-process-0.png\" width=600  style=\"display:none\">\n",
    "\n",
    "<img src=\"./images/DNN-empirical-process.png\" width=600>\n"
   ]
  },
  {
   "cell_type": "markdown",
   "metadata": {},
   "source": [
    "### 이것이 뇌와 무슨 관련이 있습니까?\n",
    "\n",
    "#### 순전파와 역전파\n",
    "\n",
    "<img src=\"./images/DNN-brain-0.png\" width=600  style=\"display:none\">\n",
    "\n",
    "<img src=\"./images/DNN-brain.png\" width=600>\n"
   ]
  }
 ],
 "metadata": {
  "kernelspec": {
   "display_name": "Python 3",
   "language": "python",
   "name": "python3"
  },
  "language_info": {
   "codemirror_mode": {
    "name": "ipython",
    "version": 3
   },
   "file_extension": ".py",
   "mimetype": "text/x-python",
   "name": "python",
   "nbconvert_exporter": "python",
   "pygments_lexer": "ipython3",
   "version": "3.7.6"
  }
 },
 "nbformat": 4,
 "nbformat_minor": 2
}
