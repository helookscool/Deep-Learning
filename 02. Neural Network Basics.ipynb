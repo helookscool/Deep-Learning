{
 "cells": [
  {
   "cell_type": "markdown",
   "metadata": {},
   "source": [
    "## 이진분류(Binary classification)\n",
    "\n",
    "<img src='./images/binary_classfication_01.png' width=350 align=\"left\">\n",
    "<br><br><br><br> 1 (cat) vs 0(non cat)<br><br><br><br>\n",
    "<img src='./images/binary_classfication_02.png' width=200 align=\"left\">\n",
    "\n",
    "<img src='./images/unrolled-data.png' width=100>\n"
   ]
  },
  {
   "cell_type": "markdown",
   "metadata": {},
   "source": [
    "### 표기법(Notation)\n",
    "<img src='./images/LR-notation.png' width=600>"
   ]
  },
  {
   "cell_type": "markdown",
   "metadata": {},
   "source": [
    "### 로지스틱 회귀(Logistic Regression)\n",
    "<img src='./images/logistic-regression.png' width=600>\n"
   ]
  },
  {
   "cell_type": "markdown",
   "metadata": {},
   "source": [
    "### 로지스틱 회귀: 비용함수(Cost function)\n",
    "\n",
    "$\\hat{y}^{(i)} = \\sigma(w^T x^{(i)} + b) \\quad $\n",
    "여기에서\n",
    "$ \\sigma(z^{(i)}) = { 1 \\over 1 + e^{-z^{(i)}} }$, &nbsp; $z^{(i)}=w^T x^{(i)} + b$, $ x^{(i)}$: i-th 훈련자료\n",
    "\n",
    "$\\{(x^{(1)}, y^{(1)}), \\cdots, (x^{(m)}, y^{(m)})\\}$ 에 대하여, 우리는 $\\hat{y}^{(i)} \\approx y^{(i)}$ 이 되길 원한다.\n",
    "\n",
    "**손실(Loss) 함수 (오류함수)**:\n",
    "$ \\quad \\mathscr{L}(\\hat{y}^{(i)}, y^{(i)}) = { 1 \\over 2} (\\hat{y}^{(i)}-y^{(i)})^2 $\n",
    "\n",
    "$$ \\mathscr{L} (\\hat{y}^{(i)}, y^{(i)}) = - \\left[ y^{(i)} \\log (\\hat{y}^{(i)}) + (1-y^{(i)}) \\log (1-\\hat{y}^{(i)}) \\right]  $$\n",
    "    \n",
    "* $ y^{(i)} = 1 $ 이면,  $\\mathscr{L} (\\hat{y}^{(i)}, y^{(i)}) = - \\log (\\hat{y}^{(i)})$ 가 되어, $\\hat{y}^{(i)}$ 가 커야(즉, 1에 가까워야), 손실 $-\\log (\\hat{y}^{(i)})$ 가 작아지게 되며,\n",
    "\n",
    "* $ y^{(i)} = 0 $ 이면,  $\\mathscr{L} (\\hat{y}^{(i)}, y^{(i)}) = - \\log (1-\\hat{y}^{(i)})$ 가 되어, $\\hat{y}^{(i)}$ 가 작아야(즉, 0에 가까워야), 손실 $-\\log (1-\\hat{y}^{(i)})$ 가 작아지게 된다.\n",
    "\n",
    "**비용(cost) 함수**:\n",
    "비용 함수는 전체 훈련 세트의 손실 함수의 평균입니다. \n",
    "\n",
    "$$ J(w, b) = { 1 \\over m} \\sum_{i=1}^m \\mathscr{L} (\\hat{y}^{(i)}, y^{(i)}) =  -{ 1 \\over m} \\sum_{i=1}^m \\left[ y^{(i)} \\log (\\hat{y}^{(i)}) + (1-y^{(i)}) \\log (1-\\hat{y}^{(i)}) \\right] $$\n",
    "<hr>"
   ]
  },
  {
   "cell_type": "code",
   "execution_count": 4,
   "metadata": {
    "scrolled": true
   },
   "outputs": [
    {
     "data": {
      "image/png": "[encoded data removed]",
      "text/plain": [
       "<Figure size 432x288 with 2 Axes>"
      ]
     },
     "metadata": {
      "needs_background": "light"
     },
     "output_type": "display_data"
    }
   ],
   "source": [
    "import numpy as np\n",
    "import matplotlib.pyplot as plt\n",
    "\n",
    "y_h = np.arange(0.01, 1, 0.05)\n",
    "\n",
    "plt.subplot(121)\n",
    "plt.plot(y_h, -np.log(y_h))\n",
    "plt.xlabel('y_h')\n",
    "plt.ylabel('- log(y_h)')\n",
    "plt.grid(True)\n",
    "\n",
    "plt.subplot(122)\n",
    "plt.plot(y_h, -np.log(1-y_h))\n",
    "plt.xlabel('y_h')\n",
    "plt.ylabel('- log(1-y_h)')\n",
    "plt.grid(True)\n",
    "\n",
    "plt.show()"
   ]
  },
  {
   "cell_type": "markdown",
   "metadata": {},
   "source": [
    "### 경사하강(Gradient descent)\n",
    "\n",
    "단일 훈련자료에 대한 로지스틱 회귀 **예측 모델**은 다음과 같이 정의 되고\n",
    "\n",
    "$\\hat{y}^{(i)} = \\sigma(w^T x^{(i)} + b) \\quad $\n",
    "여기에서 \n",
    "$\\quad \\sigma(z^{(i)}) = { 1 \\over 1 + e^{-z^{(i)}} }$\n",
    "\n",
    "전체 훈련 세트의 **손실함수**의 평균인 **비용함수**는 다음과 같다.\n",
    "$$ J(w, b) = { 1 \\over m} \\sum_{i=1}^m \\mathscr{L} (\\hat{y}^{(i)}, y^{(i)}) =  -{ 1 \\over m} \\sum_{i=1}^m \\left[ y^{(i)} \\log (\\hat{y}^{(i)}) + (1-y^{(i)}) \\log (1-\\hat{y}^{(i)}) \\right] $$\n",
    "\n",
    "여기에서, $ J(w, b)$ 를 최소화하는 매개 변수 $w$ 와 $b$ 을 찾을 것입니다. \n",
    "<img src='./images/bowl.png' width=\"250\">\n",
    "<br><hr>\n",
    "\n",
    "### 경사하강 (Gradient descent)\n",
    "\n",
    "<img src='./images/gradient-descent.png' width=600>"
   ]
  },
  {
   "cell_type": "markdown",
   "metadata": {},
   "source": [
    "## 미분(Derivatives) : 직관\n",
    "<img src='./images/derivatives_1.png' width=600 style=\"display:none\">\n",
    "<img src='./images/derivatives.png' width=600 style=\"opacity:1\">\n",
    "<br>\n",
    "<hr>\n",
    "\n",
    "\n",
    "## 미분(Derivatives) : 직관\n",
    "<img src='./images/derivatives_2.png' width=600 style=\"display:none\">\n",
    "<img src='./images/derivatives-2.png' width=600>\n",
    "<br>\n",
    "<hr>\n",
    "\n",
    "## 미분(Derivatives) : 다양한 예\n",
    "<img src='./images/derivatives-3.png' width=600>\n"
   ]
  },
  {
   "cell_type": "markdown",
   "metadata": {},
   "source": [
    "### 계산 그래프(Computation Graph) \n",
    "\n",
    "$ J(a,b,c) = 3 ( a + bc) $\n",
    "\n",
    "<img src='./images/computation-graph-1.png' width=600>\n",
    "<br>\n",
    "<hr>"
   ]
  },
  {
   "cell_type": "markdown",
   "metadata": {},
   "source": [
    "### 미분 계산(Computing Derivatives)\n",
    "<img src='./images/computing_derivatives.png' width=600 style=\"display:none\">\n",
    "\n",
    "<img src='./images/computing-derivatives-1.png' width=600>\n",
    "<br>\n",
    "<hr>\n",
    "\n",
    "### 미분 계산(Computing Derivatives)\n",
    "<img src='./images/computing_derivatives.png' width=600 style=\"display:none\">\n",
    "\n",
    "<img src='./images/computing-derivatives-2.png' width=600>\n"
   ]
  },
  {
   "cell_type": "markdown",
   "metadata": {},
   "source": [
    "### Logistic Regression - Gradient Descent\n",
    "\n",
    "$ z = w^T x + b$\n",
    "\n",
    "$ \\hat{y} = a = \\sigma (z) $\n",
    "\n",
    "$ \\mathscr{L}(a, y) = - [y \\log(a) + (1-y)\\log(1-a)] $\n",
    "\n",
    "<img src='./images/LR-GD-1.png' width=600>\n",
    "<br>\n",
    "<hr>\n",
    "\n",
    "### 로지스틱 회귀 미분\n",
    "<img src='./images/LR_derivatives.png' width=600 style=\"display:none\">\n",
    "\n",
    "<img src='./images/LR-GD-2.png' width=600 style=\"opacity:1\">\n",
    "<br>\n",
    "<hr>"
   ]
  },
  {
   "cell_type": "markdown",
   "metadata": {},
   "source": [
    "### m개의 훈련 자료에 대한 경사하강\n",
    "\n",
    "$$ J(w, b) = { 1 \\over m} \\sum_{i=1}^m \\mathscr{L} (a^{(i)}, y^{(i)}) $$\n",
    "\n",
    "여기에서 $$ a^{(i)} = \\hat{y}^{(i)} = \\sigma(w^T x^{(i)}+ b) $$\n",
    "\n",
    "$$ {\\partial \\over \\partial w_1} J(w, b) = { 1 \\over m} \\sum_{i=1}^m  {\\partial \\over \\partial w_1} \\mathscr{L} (a^{(i)}, y^{(i)})$$\n",
    "\n",
    "다음과 같이 약식으로,\n",
    "$$  {\\partial \\over \\partial w_1} \\mathscr{L} (a^{(i)}, y^{(i)}) \\Rightarrow dw_1^{(i)} \\text{ of } ( x^{(i)},  y^{(i)}) $$\n",
    "\n",
    "<br><br>\n",
    "<br><br>\n",
    "<br>\n",
    "<hr>"
   ]
  },
  {
   "cell_type": "markdown",
   "metadata": {},
   "source": [
    "### m개의 훈련 자료에 대한 경사하강 : 구현\n",
    "\n",
    "```\n",
    "J = dw1 = dw2 = db = 0;\n",
    "\n",
    "for i=1 to m:\n",
    "    z(i) = w_T*x(i) + b\n",
    "    a(i) = sigmoid(z)\n",
    "    J += - (y(i)*log(a(i)) + (1-y(i))*log(1-a(i)))\n",
    "    dz(i) = a(i) - y(i)\n",
    "    dw1 += x1(i)*dz(i)\n",
    "    dw2 += x2(i)*dz(i)\n",
    "    db += dz(i)\n",
    "    \n",
    "J /= m\n",
    "dw1 /= m; dw2 /= m; db /=m;\n",
    "```\n",
    "\n",
    "<br>\n",
    "<br>\n",
    "<hr>"
   ]
  },
  {
   "cell_type": "markdown",
   "metadata": {},
   "source": [
    "### 벡터화(Vectorization) : 벡터화란?\n",
    "<br><br><br>\n",
    "<br><br><br><br><br><br>\n",
    "<br><br><br><br><br><br>\n",
    "<hr>\n",
    "\n",
    "<br>\n",
    "<img src='./images/vectorization-1.png' width=600 style=\"opacity:1\">\n",
    "<br>\n",
    "<hr>"
   ]
  },
  {
   "cell_type": "code",
   "execution_count": 5,
   "metadata": {},
   "outputs": [
    {
     "name": "stdout",
     "output_type": "stream",
     "text": [
      "[1 2 3 4]\n"
     ]
    }
   ],
   "source": [
    "import numpy as np\n",
    "\n",
    "a = np.array([1,2,3,4])\n",
    "print(a)"
   ]
  },
  {
   "cell_type": "code",
   "execution_count": null,
   "metadata": {},
   "outputs": [],
   "source": [
    "import time\n",
    "\n",
    "a = np.random.rand(1000000)"
   ]
  },
  {
   "cell_type": "markdown",
   "metadata": {},
   "source": [
    "\n",
    "\n",
    "### 벡터화(Vectorization) : 신경망 프로그래밍 지침\n",
    "가능하면 명시적인 for 루프를 피하십시오.\n",
    "<br><br><br><br>\n",
    "<br><br><br><br><br><br>\n",
    "<br><br><br><br><br><br>\n",
    "<hr>\n",
    "\n",
    "<img src='./images/vectorization-2.png' width=600 style=\"opacity:1\">\n",
    "<br>\n",
    "<hr>\n",
    "\n",
    "### 벡터 및 행렬 함수\n",
    "행렬/벡터의 모든 요소에 지수 연산을 적용해야 한다고 가정해 보겠습니다.\n",
    "\n",
    "$ v = \\begin{bmatrix}\n",
    "v_1 \\\\\n",
    "v_2 \\\\\n",
    "\\vdots \\\\\n",
    "v_n\n",
    "\\end{bmatrix} \\quad \\Rightarrow \\quad u = \n",
    "\\begin{bmatrix}\n",
    "e^{v_1} \\\\\n",
    "e^{v_2} \\\\\n",
    "\\vdots \\\\\n",
    "e^{v_n}\n",
    "\\end{bmatrix}$\n",
    "\n",
    "```\n",
    "# For loop version ============\n",
    "u = np.zeros((n,1))\n",
    "for i in range(n):\n",
    "    u[i] = math.exp(v[i])\n",
    "\n",
    "# Vactorization version ============\n",
    "u = np.exp(v)\n",
    "np.log(v)\n",
    "np.abs(v)\n",
    "np.maximum(v,0\n",
    "v**2\n",
    "1/v \n",
    "```"
   ]
  },
  {
   "cell_type": "markdown",
   "metadata": {},
   "source": [
    "### 로지스틱 회귀 미분 : 구현\n",
    "<br>\n",
    "<br>\n",
    "\n",
    "```\n",
    "J = db = 0; \n",
    "dw_1 =0, dw_2=0 \n",
    "for i=1 to m:\n",
    "```\n",
    "\n",
    "$\\quad \\quad \\quad z^{(i)} = w^T x^{(i)} + b$ <br>\n",
    "$\\quad \\quad \\quad a^{(i)} = \\sigma(z^{(i)})$ <br>\n",
    "$\\quad \\quad \\quad J += - [y^{(i)} \\log \\hat{y}^{(i)} + (1-y^{(i)}) \\log (1-\\hat{y}^{(i)})]$<br>\n",
    "$\\quad \\quad \\quad dz^{(i)} = a^{(i)}(1-a^{(i)})$<br>\n",
    "$\\quad \\quad \\quad dw_1 += x_1^{(i)}dz^{(i)}$<br>\n",
    "$\\quad \\quad \\quad dw_2 += x_2^{(i)}dz^{(i)}$<br>\n",
    "$\\quad \\quad \\quad db += dz^{(i)}$<br>\n",
    "\n",
    "```\n",
    "J = J/m, dw_1 = dw_1/m; dw_2 = dw_2/m \n",
    "db = db/m;\n",
    "```\n",
    "<br>\n",
    "<hr>"
   ]
  },
  {
   "cell_type": "markdown",
   "metadata": {},
   "source": [
    "## 로지스틱 회귀 벡터화\n",
    "\n",
    "$$ z^{(1)} = w^T x^{(1)} + b  \\quad \\quad \\quad  z^{(2)} = w^T x^{(2)} + b  \\quad \\quad \\quad  z^{(3)} = w^T x^{(3)} + b $$\n",
    "$$ a^{(1)} = \\sigma(z^{(1)})\\quad \\quad \\quad \\quad \\quad a^{(2)} = \\sigma(z^{(2)})\\quad \\quad \\quad \\quad a^{(3)} = \\sigma(z^{(3)})$$\n",
    "\n",
    "<br><br><br><br><br>\n",
    "<br><br><br><br><br>\n",
    "<hr>\n",
    "\n",
    "<br>\n",
    "<img src='./images/LR-vectorization-1.png' width=600 style=\"opacity:1\">\n",
    "<br>\n",
    "<hr>\n",
    "\n",
    "## 로지스틱 회귀 그래디언트 계산 벡터화\n",
    "\n",
    "<br><br><br>\n",
    "<br><br><br><br><br>\n",
    "<br><br><br><br><br>\n",
    "<hr>\n",
    "\n",
    "<br>\n",
    "<img src='./images/LR-vectorization-2.png' width=600 style=\"opacity:1\">\n",
    "<br>\n",
    "<hr>\n",
    "\n",
    "## 로지스틱 회귀 그래디언트 계산 벡터화 : 구현\n",
    "<br>\n",
    "<br>\n",
    "\n",
    "```\n",
    "J = db = 0; \n",
    "dw_1 =0, dw_2=0 \n",
    "for i=1 to m:\n",
    "```\n",
    "\n",
    "$\\quad \\quad \\quad z^{(i)} = w^T x^{(i)} + b$ <br>\n",
    "$\\quad \\quad \\quad a^{(i)} = \\sigma(z^{(i)})$ <br>\n",
    "$\\quad \\quad \\quad J += - [y^{(i)} \\log \\hat{y}^{(i)} + (1-y^{(i)}) \\log (1-\\hat{y}^{(i)})]$<br>\n",
    "$\\quad \\quad \\quad dz^{(i)} = a^{(i)}(1-a^{(i)})$<br>\n",
    "$\\quad \\quad \\quad dw_1 += x_1^{(i)}dz^{(i)}$<br>\n",
    "$\\quad \\quad \\quad dw_2 += x_2^{(i)}dz^{(i)}$<br>\n",
    "$\\quad \\quad \\quad db += dz^{(i)}$<br>\n",
    "\n",
    "```\n",
    "J = J/m, dw_1 = dw_1/m; dw_2 = dw_2/m, db = db/m;\n",
    "```\n",
    "<br>\n",
    "<br>\n",
    "<hr>\n",
    "\n",
    "<br>\n",
    "<img src='./images/LR-implementing.png' width=600 style=\"opacity:1\">"
   ]
  },
  {
   "cell_type": "markdown",
   "metadata": {},
   "source": [
    "## 로지스틱 회귀 비용함수 설명 (선택 사항)\n",
    "\n",
    "### 로지스틱 회귀 비용함수\n",
    "\n",
    "로지스틱 회귀에서 주어진 $x$ 에 대한 추정 $\\hat{y}$는 다음과 같이 계산됩니다.\n",
    "$$ \\hat{y} = \\sigma (w^T x + b) \\quad\\text{where}\\quad  \\sigma(z) = { 1 \\over 1 + e^{-z}}$$\n",
    "\n",
    "그리고, 이는 $x$에 대하여 $y=1$일 확률, 즉, $ \\hat{y} = P(y=1|x)$ 로 해석한다고 했습니다. 궁극적으로 우리의 알고리즘은 $ \\hat{y}$ 이 입력 값 x에 대해서 **$y$가 1일 확률**을 나타내주길 바랍니다. \n",
    "\n",
    "다시 말해, $y$가 1인 경우, 주어진 x에 대한 $y$ 일 확률이 $\\hat{y}$이라고 할 수 있습니다. 반대로, 만약 $y$가 0 이면, $y$가 0일 확률은  $1- \\hat{y}$이 됩니다. 따라서  $\\hat{y}$ 은 $y$가 1일 확률이고, $1- \\hat{y}$ 은 $y$가 0일 확률이 됩니다. \n",
    "\n",
    "\n",
    "* $y=1$ 일 때는, $P(y|x) =  \\hat{y}$ \n",
    "* $y=0$ 일 때는, $P(y|x) =  1- \\hat{y}$ \n",
    "\n",
    "<br>\n",
    "<br>\n",
    "<hr>\n",
    "\n",
    "### 로지스틱 회귀 비용함수\n",
    "* $y=1$ 일 때는, $P(y|x) =  \\hat{y}$ \n",
    "* $y=0$ 일 때는, $P(y|x) =  1- \\hat{y}$ \n",
    "\n",
    "위의 두 식을, 하나의 식으로 요약해보면 다음과 같이 됩니다.\n",
    "\n",
    "$$ P(y|x) = \\hat{y}^y (1-\\hat{y})^{(1-y)}$$\n",
    "\n",
    "* $y=1$ 일 때는, $P(y|x) =  \\hat{y}^1 (1- \\hat{y})^0 = \\hat{y}$ \n",
    "\n",
    "\n",
    "* $y=0$ 일 때는, $P(y|x) =  \\hat{y}^0 (1- \\hat{y})^{1} = 1- \\hat{y}$ \n",
    "\n",
    "\n",
    "$$ \\begin{eqnarray}\n",
    "\\log P(y|x) & = &\\log \\hat{y}^y (1-\\hat{y})^{(1-y)} \\\\\n",
    "& = &y \\log \\hat{y} + (1-y) \\log (1-\\hat{y}) \\\\ \n",
    "& = &- \\mathscr{L}(\\hat{y},y) \n",
    "\\end{eqnarray}$$\n",
    "\n",
    "<br>\n",
    "<br>\n",
    "<hr>\n",
    "\n",
    "### m 예제에 대한 비용\n",
    "\n",
    "\n",
    "$$ P(\\text{labels in training set}) = \\log \\prod_{i=1}^M P(y^{(i)} | x^{(i)})$$\n",
    "\n",
    "최우추정 (Maximum Likelihood Estimation) :\n",
    "\n",
    "$$ P(\\text{labels in training set}) = \\sum_{i=1}^M P(y^{(i)} | x^{(i)}) =  - \\sum_{i=1}^M \\mathscr{L}(y^{(i)},y^{(i)})$$\n",
    "\n",
    "Cost to minimize : \n",
    "\n",
    "$$ J(w, b) = { 1 \\over m} \\sum_{i=1}^m \\mathscr{L} (\\hat{y}^{(i)}, y^{(i)})  $$\n",
    "\n",
    "<br>\n",
    "<br>\n",
    "<hr>"
   ]
  }
 ],
 "metadata": {
  "kernelspec": {
   "display_name": "Python 3",
   "language": "python",
   "name": "python3"
  },
  "language_info": {
   "codemirror_mode": {
    "name": "ipython",
    "version": 3
   },
   "file_extension": ".py",
   "mimetype": "text/x-python",
   "name": "python",
   "nbconvert_exporter": "python",
   "pygments_lexer": "ipython3",
   "version": "3.7.4"
  }
 },
 "nbformat": 4,
 "nbformat_minor": 2
}
