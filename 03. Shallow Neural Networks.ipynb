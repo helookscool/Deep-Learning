{
 "cells": [
  {
   "cell_type": "markdown",
   "metadata": {},
   "source": [
    "## 신경망이란 무엇인가?\n",
    "\n",
    "<img src='./images/neural-network.PNG' width='800'>\n"
   ]
  },
  {
   "cell_type": "markdown",
   "metadata": {},
   "source": [
    "## 신경망 표현\n",
    "<img src='./images/NN-representation-1.PNG' width='800' style=\"display:none\">\n",
    "<img src='./images/NN-representation-1-1.PNG' width='600'>\n",
    "<br>\n",
    "<br>\n",
    "<br>\n",
    "<hr>"
   ]
  },
  {
   "cell_type": "markdown",
   "metadata": {},
   "source": [
    "## 신경망 출력값 계산\n",
    "<br>\n",
    "<img src='./images/NN-representation-2.PNG' width='900'>\n",
    "<br>\n",
    "<br>\n",
    "<br>\n",
    "<hr>\n",
    "<br>\n",
    "<img style=\"display:none\" src='./images/NN-representation-3.PNG' width='900'>\n",
    "<img src='./images/NN-representation-3-1.PNG' width='600'>\n",
    "<br>\n",
    "<hr>\n",
    "<br>\n",
    "<img style=\"display:none\" src='./images/NN-representation-4.PNG' width='800'>\n",
    "<img src='./images/NN-representation-4-1.PNG' width='600'>\n",
    "<br>\n",
    "<hr>\n",
    "<br>\n",
    "<br>\n",
    "<img style=\"display:none\" src='./images/NN-representation-5.PNG' width='900'>\n",
    "<img src='./images/NN-representation-5-1.PNG' width='600'>\n",
    "<br>\n",
    "<hr>"
   ]
  },
  {
   "cell_type": "markdown",
   "metadata": {},
   "source": [
    "## 다수 훈련자료에 대한 벡터화\n",
    "\n",
    "<img style=\"display:none\" src='./images/examples-vectorizing-1.PNG' width='900'>\n",
    "<img src='./images/examples-vectorizing-1-1.PNG' width='700'>\n",
    "<br>\n",
    "<hr>\n",
    "<br>\n",
    "<img style=\"display:none\" src='./images/examples-vectorizing-2.PNG' width='900'>\n",
    "<img src='./images/examples-vectorizing-2-1.PNG' width='700'>\n",
    "<br>\n",
    "<hr>\n",
    "<br>"
   ]
  },
  {
   "cell_type": "markdown",
   "metadata": {},
   "source": [
    "\n",
    "### 벡터화 구현의 근거\n",
    "\n",
    "<img src='./images/examples-vectorizing-3.PNG' width='800'>\n",
    "<br>\n",
    "<hr>\n",
    "<br>\n",
    "<img src='./images/examples-vectorizing-4.PNG' width='900'>\n",
    "<br>\n",
    "<hr>\n",
    "<img style=\"display:none\" src='./images/examples-vectorizing-4-1.PNG' width='700'>"
   ]
  },
  {
   "cell_type": "markdown",
   "metadata": {},
   "source": [
    "## 활성화 함수(Activation functions)\n",
    "\n",
    "<img src='./images/activation-function-1.PNG' width='900' style=\"display:none\" >\n",
    "\n",
    "<img src='./images/activation-function-1-1.PNG' width='600'>\n",
    "<br>\n",
    "<hr>\n",
    "<br>\n",
    "\n",
    "### 활성화 함수들의 장점과 단점\n",
    "\n",
    "<img src='./images/activation-function-2-1.PNG' width='600'>\n",
    "<br>\n",
    "<hr>\n",
    "<br>"
   ]
  },
  {
   "cell_type": "markdown",
   "metadata": {},
   "source": [
    "### 활성화 함수 : 비선형 활성화 함수가 필요한 이유는 무엇입니까?\n",
    "<img src='./images/activation-function-non-linear.png' width='800' style=\"display:none\">\n",
    "\n",
    "<img src='./images/activation-function-non-linear-a.png' width='700'>\n",
    "<br>\n",
    "<hr>"
   ]
  },
  {
   "cell_type": "markdown",
   "metadata": {},
   "source": [
    "## 활성화 함수의 미분\n",
    "\n",
    "<img src='./images/activation-function-derivative-1.png' width='700' style=\"display:none\">\n",
    "\n",
    "<img src='./images/activation-function-derivative-1-a.png' width='600'>\n",
    "<br>\n",
    "<hr>\n",
    "<br>\n",
    "<img src='./images/activation-function-derivative-2.png' width='700'  style=\"display:none\">\n",
    "\n",
    "<img src='./images/activation-function-derivative-2-a.png' width='600'>\n",
    "<br>\n",
    "<hr>\n",
    "<br>\n",
    "<img src='./images/activation-function-derivative-3.png' width='700'  style=\"display:none\">\n",
    "<img src='./images/activation-function-derivative-3-a.png' width='600'>\n",
    "<br>\n",
    "<hr>\n",
    "<br>"
   ]
  },
  {
   "cell_type": "markdown",
   "metadata": {},
   "source": [
    "### 신경망을 위한 경사 하강법\n",
    "\n",
    "<img src='./images/gradient-descent-1.png' width='600'>\n",
    "\n",
    "<hr>\n",
    "\n",
    "### 미분 계산을 위한 공식\n",
    "\n",
    "<img src='./images/gradient-descent-2.png' width='600'>\n",
    "<br>\n",
    "<hr>"
   ]
  },
  {
   "cell_type": "markdown",
   "metadata": {},
   "source": [
    "### 역전파 직관\n",
    "\n",
    "\n",
    "<img src='./images/03.backpropagation-001.png' width='800'  style=\"display:none\">\n",
    "<img src='./images/backpropagation-1.png' width='700'>\n",
    "<br>\n",
    "<hr>\n",
    "<br>\n",
    "<img src='./images/03.backpropagation-002.png' width='800' style=\"display:none\">\n",
    "<img src='./images/backpropagation-2.png' width='700'>\n",
    "<br>\n",
    "<hr>\n",
    "<br>\n",
    "<img src='./images/03.backpropagation-003.png' width='800'  style=\"display:none\">\n",
    "<img src='./images/backpropagation-3.png' width='700'>\n",
    "<br>\n",
    "<hr>\n",
    "<br>\n",
    "<img src='./images/03.backpropagation-004.png' width='800'  style=\"display:none\">\n",
    "<img src='./images/backpropagation-4.png' width='700'>\n",
    "<br>\n",
    "<hr>\n",
    "<br>"
   ]
  },
  {
   "cell_type": "markdown",
   "metadata": {},
   "source": [
    "### 무작위 초기화(random initialization)\n",
    "\n",
    "#### 가중치를 0으로 초기화하면 어떻게 됩니까?\n",
    "\n",
    "<img src='./images/03.initialization-1.png' width='800' style=\"display:none\" >\n",
    "<img src='./images/03.initialization-2.png' width='800'>\n",
    "<br>\n",
    "<hr>\n",
    "\n",
    "### 무작위 초기화(random initialization)\n",
    "\n",
    "<img src='./images/random-initialization-2.PNG' width='700'>\n",
    "<br>\n",
    "<hr>\n",
    "<br>"
   ]
  }
 ],
 "metadata": {
  "kernelspec": {
   "display_name": "Python 3",
   "language": "python",
   "name": "python3"
  },
  "language_info": {
   "codemirror_mode": {
    "name": "ipython",
    "version": 3
   },
   "file_extension": ".py",
   "mimetype": "text/x-python",
   "name": "python",
   "nbconvert_exporter": "python",
   "pygments_lexer": "ipython3",
   "version": "3.7.6"
  }
 },
 "nbformat": 4,
 "nbformat_minor": 4
}
